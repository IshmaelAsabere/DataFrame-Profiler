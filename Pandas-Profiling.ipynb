{
 "cells": [
  {
   "cell_type": "code",
   "execution_count": 1,
   "metadata": {},
   "outputs": [],
   "source": [
    "# Import relevant libraries\n",
    "import pandas as pd\n",
    "import numpy as np\n",
    "from pandas_profiling import ProfileReport"
   ]
  },
  {
   "cell_type": "code",
   "execution_count": 2,
   "metadata": {},
   "outputs": [
    {
     "data": {
      "text/html": [
       "<div>\n",
       "<style scoped>\n",
       "    .dataframe tbody tr th:only-of-type {\n",
       "        vertical-align: middle;\n",
       "    }\n",
       "\n",
       "    .dataframe tbody tr th {\n",
       "        vertical-align: top;\n",
       "    }\n",
       "\n",
       "    .dataframe thead th {\n",
       "        text-align: right;\n",
       "    }\n",
       "</style>\n",
       "<table border=\"1\" class=\"dataframe\">\n",
       "  <thead>\n",
       "    <tr style=\"text-align: right;\">\n",
       "      <th></th>\n",
       "      <th>EVENTDATE</th>\n",
       "      <th>EVENT_LABEL</th>\n",
       "      <th>PROVIDER</th>\n",
       "      <th>COSID</th>\n",
       "      <th>MSISDN</th>\n",
       "      <th>ORIGINATIONNETWORKID</th>\n",
       "      <th>DESTINATIONNETWORKID</th>\n",
       "      <th>ROAMING_FLAG</th>\n",
       "      <th>BILLED_FLAG</th>\n",
       "      <th>SHORTCODEID</th>\n",
       "      <th>...</th>\n",
       "      <th>IMSI</th>\n",
       "      <th>MONTHID</th>\n",
       "      <th>LOAD_ID</th>\n",
       "      <th>LOADDATE</th>\n",
       "      <th>CLASSIFICATION2</th>\n",
       "      <th>ROAMING_DETAILS</th>\n",
       "      <th>HOME_CELLID</th>\n",
       "      <th>ORIGINATING_COUNTRY_ID</th>\n",
       "      <th>DESTINATION_COUNTRY_ID</th>\n",
       "      <th>PS_TYPE</th>\n",
       "    </tr>\n",
       "  </thead>\n",
       "  <tbody>\n",
       "    <tr>\n",
       "      <th>0</th>\n",
       "      <td>20190802</td>\n",
       "      <td>46</td>\n",
       "      <td>1000</td>\n",
       "      <td>1070</td>\n",
       "      <td>233204922078</td>\n",
       "      <td>1</td>\n",
       "      <td>1</td>\n",
       "      <td>0</td>\n",
       "      <td>N</td>\n",
       "      <td>0</td>\n",
       "      <td>...</td>\n",
       "      <td>6.200205e+14</td>\n",
       "      <td>201908</td>\n",
       "      <td>1</td>\n",
       "      <td>03-AUG-19</td>\n",
       "      <td>GPRS</td>\n",
       "      <td>080.087.092.020</td>\n",
       "      <td>54358.0</td>\n",
       "      <td>1126</td>\n",
       "      <td>0</td>\n",
       "      <td>1.0</td>\n",
       "    </tr>\n",
       "    <tr>\n",
       "      <th>1</th>\n",
       "      <td>20190802</td>\n",
       "      <td>46</td>\n",
       "      <td>1000</td>\n",
       "      <td>1021</td>\n",
       "      <td>233203520024</td>\n",
       "      <td>1</td>\n",
       "      <td>1</td>\n",
       "      <td>0</td>\n",
       "      <td>N</td>\n",
       "      <td>0</td>\n",
       "      <td>...</td>\n",
       "      <td>6.200205e+14</td>\n",
       "      <td>201908</td>\n",
       "      <td>1</td>\n",
       "      <td>03-AUG-19</td>\n",
       "      <td>GPRS</td>\n",
       "      <td>080.087.092.111</td>\n",
       "      <td>65535.0</td>\n",
       "      <td>1126</td>\n",
       "      <td>0</td>\n",
       "      <td>1.0</td>\n",
       "    </tr>\n",
       "  </tbody>\n",
       "</table>\n",
       "<p>2 rows × 31 columns</p>\n",
       "</div>"
      ],
      "text/plain": [
       "   EVENTDATE  EVENT_LABEL  PROVIDER  COSID        MSISDN  \\\n",
       "0   20190802           46      1000   1070  233204922078   \n",
       "1   20190802           46      1000   1021  233203520024   \n",
       "\n",
       "   ORIGINATIONNETWORKID  DESTINATIONNETWORKID  ROAMING_FLAG BILLED_FLAG  \\\n",
       "0                     1                     1             0           N   \n",
       "1                     1                     1             0           N   \n",
       "\n",
       "   SHORTCODEID  ...          IMSI  MONTHID  LOAD_ID   LOADDATE  \\\n",
       "0            0  ...  6.200205e+14   201908        1  03-AUG-19   \n",
       "1            0  ...  6.200205e+14   201908        1  03-AUG-19   \n",
       "\n",
       "   CLASSIFICATION2                   ROAMING_DETAILS  HOME_CELLID  \\\n",
       "0             GPRS  080.087.092.020                       54358.0   \n",
       "1             GPRS  080.087.092.111                       65535.0   \n",
       "\n",
       "  ORIGINATING_COUNTRY_ID DESTINATION_COUNTRY_ID  PS_TYPE  \n",
       "0                   1126                      0      1.0  \n",
       "1                   1126                      0      1.0  \n",
       "\n",
       "[2 rows x 31 columns]"
      ]
     },
     "execution_count": 2,
     "metadata": {},
     "output_type": "execute_result"
    }
   ],
   "source": [
    "data = pd.read_csv(\"actday.csv\")\n",
    "data.head(2)"
   ]
  },
  {
   "cell_type": "code",
   "execution_count": 3,
   "metadata": {},
   "outputs": [
    {
     "data": {
      "application/vnd.jupyter.widget-view+json": {
       "model_id": "8ff39b8c31724f45b0e646081c4e6a72",
       "version_major": 2,
       "version_minor": 0
      },
      "text/plain": [
       "HBox(children=(FloatProgress(value=0.0, description='Summarize dataset', max=45.0, style=ProgressStyle(descrip…"
      ]
     },
     "metadata": {},
     "output_type": "display_data"
    },
    {
     "name": "stdout",
     "output_type": "stream",
     "text": [
      "\n"
     ]
    },
    {
     "data": {
      "application/vnd.jupyter.widget-view+json": {
       "model_id": "beb461b17f0049d992c06468bb16f2ce",
       "version_major": 2,
       "version_minor": 0
      },
      "text/plain": [
       "HBox(children=(FloatProgress(value=0.0, description='Generate report structure', max=1.0, style=ProgressStyle(…"
      ]
     },
     "metadata": {},
     "output_type": "display_data"
    },
    {
     "name": "stdout",
     "output_type": "stream",
     "text": [
      "\n"
     ]
    },
    {
     "data": {
      "application/vnd.jupyter.widget-view+json": {
       "model_id": "16a74fa2fde34c0c97edbbc174d9012f",
       "version_major": 2,
       "version_minor": 0
      },
      "text/plain": [
       "HBox(children=(FloatProgress(value=0.0, description='Render HTML', max=1.0, style=ProgressStyle(description_wi…"
      ]
     },
     "metadata": {},
     "output_type": "display_data"
    },
    {
     "name": "stdout",
     "output_type": "stream",
     "text": [
      "\n"
     ]
    },
    {
     "data": {
      "application/vnd.jupyter.widget-view+json": {
       "model_id": "0732f31b99fb4678bc4cdfe849d4fe8c",
       "version_major": 2,
       "version_minor": 0
      },
      "text/plain": [
       "HBox(children=(FloatProgress(value=0.0, description='Export report to file', max=1.0, style=ProgressStyle(desc…"
      ]
     },
     "metadata": {},
     "output_type": "display_data"
    },
    {
     "name": "stdout",
     "output_type": "stream",
     "text": [
      "\n"
     ]
    }
   ],
   "source": [
    "prof = ProfileReport(data)\n",
    "prof.to_file(output_file='output.html')"
   ]
  },
  {
   "cell_type": "code",
   "execution_count": null,
   "metadata": {},
   "outputs": [],
   "source": [
    "# Pandas 0.23"
   ]
  }
 ],
 "metadata": {
  "kernelspec": {
   "display_name": "Python 3",
   "language": "python",
   "name": "python3"
  },
  "language_info": {
   "codemirror_mode": {
    "name": "ipython",
    "version": 3
   },
   "file_extension": ".py",
   "mimetype": "text/x-python",
   "name": "python",
   "nbconvert_exporter": "python",
   "pygments_lexer": "ipython3",
   "version": "3.6.10"
  }
 },
 "nbformat": 4,
 "nbformat_minor": 4
}
